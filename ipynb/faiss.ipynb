{
 "cells": [
  {
   "cell_type": "code",
   "execution_count": 84,
   "metadata": {},
   "outputs": [],
   "source": [
    "import numpy as np\n",
    "import faiss\n",
    "import matplotlib.pyplot as plt\n",
    "from sklearn.datasets import load_digits\n",
    "import pandas as pd\n",
    "import tiktoken\n",
    "from openai.embeddings_utils import get_embedding\n",
    "import openai\n",
    "import os\n",
    "from dotenv import load_dotenv\n",
    "load_dotenv('../.env')\n",
    "openai.api_key = os.getenv(\"OPENAI_API_KEY\")"
   ]
  },
  {
   "cell_type": "code",
   "execution_count": 31,
   "metadata": {},
   "outputs": [
    {
     "name": "stdout",
     "output_type": "stream",
     "text": [
      "shape (1797, 64)\n"
     ]
    }
   ],
   "source": [
    "digits = load_digits()\n",
    "print(\"shape\", digits.data.shape)"
   ]
  },
  {
   "cell_type": "code",
   "execution_count": 55,
   "metadata": {},
   "outputs": [],
   "source": [
    "# load from csv\n",
    "df = pd.read_csv('enneads_with_embedding.csv')\n",
    "ennead_matrix = np.array(df.embedding.apply(eval).to_list())\n",
    "ennead_embedding_matrix = ennead_matrix.astype('float32')"
   ]
  },
  {
   "cell_type": "code",
   "execution_count": 23,
   "metadata": {},
   "outputs": [],
   "source": [
    "def draw_mnist(arr):\n",
    "    plt.figure(figsize=(len(arr)*4,4))\n",
    "    for index, (image) in enumerate(zip(arr)):\n",
    "        plt.subplot(1, len(arr), index + 1)\n",
    "        plt.imshow(np.reshape(image, (8,8)), cmap=plt.cm.gray)\n"
   ]
  },
  {
   "cell_type": "code",
   "execution_count": 63,
   "metadata": {},
   "outputs": [
    {
     "name": "stdout",
     "output_type": "stream",
     "text": [
      "[[-0.010854   -0.00717103  0.01280301 ... -0.00254044 -0.02389895\n",
      "  -0.03306605]]\n",
      "embedding matrix shape:  (652, 1536) \n",
      "query shape: (1, 1536)\n"
     ]
    }
   ],
   "source": [
    "# enneads indexing\n",
    "ennead_dimension = 1536 # dimension\n",
    "ennead_database_size = 100 # database size\n",
    "ennead_query_size = 10 # nb of queries\n",
    "\n",
    "ennead_query = ennead_embedding_matrix[3:4] # Use the third section as a query vector\n",
    "print(ennead_query)\n",
    "\n",
    "print('embedding matrix shape: ', ennead_embedding_matrix.shape, '\\nquery shape:', ennead_query.shape)"
   ]
  },
  {
   "cell_type": "code",
   "execution_count": 65,
   "metadata": {},
   "outputs": [
    {
     "name": "stdout",
     "output_type": "stream",
     "text": [
      "xb.shape :  (1797, 64) \n",
      "xq.shape :  (1, 64)\n"
     ]
    }
   ],
   "source": [
    "# mnist indexing\n",
    "d = 64                           # dimension\n",
    "nb = 100                      # database size\n",
    "nq = 10                     # nb of queries\n",
    "\n",
    "xb = digits.data.astype('float32') \n",
    "xq = digits.data[0:1].astype('float32') # Use the first image as the query vector\n",
    "\n",
    "print('xb.shape : ', xb.shape, '\\nxq.shape : ', xq.shape)"
   ]
  },
  {
   "cell_type": "code",
   "execution_count": 66,
   "metadata": {},
   "outputs": [
    {
     "name": "stdout",
     "output_type": "stream",
     "text": [
      "index.is_trained :  True\n",
      "index.ntotal :  1797\n"
     ]
    }
   ],
   "source": [
    "index = faiss.IndexFlatL2(d)   # build the index\n",
    "print('index.is_trained : ', index.is_trained)\n",
    "\n",
    "index.add(xb)                  # add vectors to the index\n",
    "print('index.ntotal : ', index.ntotal)"
   ]
  },
  {
   "cell_type": "code",
   "execution_count": 117,
   "metadata": {},
   "outputs": [
    {
     "name": "stdout",
     "output_type": "stream",
     "text": [
      "ennead_index.is_trained :  True\n",
      "index.ntotal :  652\n"
     ]
    }
   ],
   "source": [
    "ennead_index = faiss.IndexFlatIP(ennead_dimension)   # build the index\n",
    "print('ennead_index.is_trained : ', ennead_index.is_trained)\n",
    "ennead_index.add(ennead_embedding_matrix) # add vectors to the index\n",
    "print('index.ntotal : ', ennead_index.ntotal)"
   ]
  },
  {
   "cell_type": "code",
   "execution_count": 68,
   "metadata": {},
   "outputs": [
    {
     "name": "stdout",
     "output_type": "stream",
     "text": [
      "index.is_trained :  True\n",
      "index.ntotal :  1797\n"
     ]
    }
   ],
   "source": [
    "index = faiss.IndexFlatL2(d)   # build the index\n",
    "print('index.is_trained : ', index.is_trained)\n",
    "\n",
    "index.add(xb)                  # add vectors to the index\n",
    "print('index.ntotal : ', index.ntotal)"
   ]
  },
  {
   "cell_type": "code",
   "execution_count": 69,
   "metadata": {},
   "outputs": [
    {
     "name": "stdout",
     "output_type": "stream",
     "text": [
      "I[:5] :  [[   0  877 1365 1541 1167 1029  464  957 1697  855]]\n",
      "D[:5] :  [[  0. 120. 164. 172. 176. 178. 181. 238. 245. 252.]]\n"
     ]
    }
   ],
   "source": [
    "k = 10\n",
    "D, I = index.search(xq, k)\n",
    "print('I[:5] : ', I[:k])                   # neighbors of the 5 first queries\n",
    "print('D[:5] : ', D[:k])                   # distances of the 5 first queries"
   ]
  },
  {
   "cell_type": "code",
   "execution_count": 70,
   "metadata": {},
   "outputs": [
    {
     "data": {
      "text/plain": [
       "numpy.ndarray"
      ]
     },
     "execution_count": 70,
     "metadata": {},
     "output_type": "execute_result"
    }
   ],
   "source": [
    "type(ennead_query)\n",
    "type(xq)"
   ]
  },
  {
   "cell_type": "code",
   "execution_count": 71,
   "metadata": {},
   "outputs": [
    {
     "data": {
      "text/plain": [
       "<memory at 0x7ff713b6f6b0>"
      ]
     },
     "execution_count": 71,
     "metadata": {},
     "output_type": "execute_result"
    }
   ],
   "source": [
    "ennead_matrix.data[3:4]"
   ]
  },
  {
   "cell_type": "code",
   "execution_count": 87,
   "metadata": {},
   "outputs": [],
   "source": [
    "def get_embedding_using_ada(text):\n",
    "  embedding_model = \"text-embedding-ada-002\"\n",
    "  # embedding_encoding = \"cl100k_base\"\n",
    "  # encoding = tiktoken.get_encoding(embedding_encoding)\n",
    "  # max_tokens = 8000  # the maximum for text-embedding-ada-002 is 8191\n",
    "  embedding = get_embedding(text, embedding_model)\n",
    "  return embedding"
   ]
  },
  {
   "cell_type": "code",
   "execution_count": 127,
   "metadata": {},
   "outputs": [],
   "source": [
    "x = get_embedding_using_ada(\"In the Enneads, Plotinus stresses the importance of the cultivation of virtue in the pursuit of the highest good. He argues that the soul's journey towards union with the divine requires the development of virtues such as wisdom, courage, justice, and moderation. By embracing these virtues, the soul can transcend the limitations of the material world and attain a state of divine consciousness. The soul must strive to embody the highest ideals, and in doing so, it will find meaning and purpose in its existence. The journey towards divine union requires discipline and effort, but it leads to a state of supreme happiness and fulfillment. So, my friend, turn your attention to the cultivation of virtue and you will find the direction you seek.\")\n",
    "ennead_query_vector = np.array(x).astype('float32')"
   ]
  },
  {
   "cell_type": "code",
   "execution_count": 128,
   "metadata": {},
   "outputs": [],
   "source": [
    "k = 10\n",
    "distances, neighbors = ennead_index.search(np.array([ennead_query_vector]), k)\n",
    "index_array = neighbors[0]\n",
    "search_results = df.loc[index_array]\n",
    "search_results.combined.to_json('search_results.json', orient='index', indent=2)"
   ]
  },
  {
   "cell_type": "code",
   "execution_count": 129,
   "metadata": {},
   "outputs": [
    {
     "data": {
      "text/html": [
       "<div>\n",
       "<style scoped>\n",
       "    .dataframe tbody tr th:only-of-type {\n",
       "        vertical-align: middle;\n",
       "    }\n",
       "\n",
       "    .dataframe tbody tr th {\n",
       "        vertical-align: top;\n",
       "    }\n",
       "\n",
       "    .dataframe thead th {\n",
       "        text-align: right;\n",
       "    }\n",
       "</style>\n",
       "<table border=\"1\" class=\"dataframe\">\n",
       "  <thead>\n",
       "    <tr style=\"text-align: right;\">\n",
       "      <th></th>\n",
       "      <th>combined</th>\n",
       "    </tr>\n",
       "  </thead>\n",
       "  <tbody>\n",
       "    <tr>\n",
       "      <th>19</th>\n",
       "      <td>Plotinus:\\nTHE FIRST ENNEAD\\nTractate Title: S...</td>\n",
       "    </tr>\n",
       "    <tr>\n",
       "      <th>148</th>\n",
       "      <td>Plotinus:\\nTHE SECOND ENNEAD\\nTractate Title: ...</td>\n",
       "    </tr>\n",
       "    <tr>\n",
       "      <th>15</th>\n",
       "      <td>Plotinus:\\nTHE FIRST ENNEAD\\nTractate Title: S...</td>\n",
       "    </tr>\n",
       "    <tr>\n",
       "      <th>440</th>\n",
       "      <td>Plotinus:\\nTHE FIFTH ENNEAD\\nTractate Title: N...</td>\n",
       "    </tr>\n",
       "    <tr>\n",
       "      <th>57</th>\n",
       "      <td>Plotinus:\\nTHE FIRST ENNEAD\\nTractate Title: S...</td>\n",
       "    </tr>\n",
       "    <tr>\n",
       "      <th>18</th>\n",
       "      <td>Plotinus:\\nTHE FIRST ENNEAD\\nTractate Title: S...</td>\n",
       "    </tr>\n",
       "    <tr>\n",
       "      <th>16</th>\n",
       "      <td>Plotinus:\\nTHE FIRST ENNEAD\\nTractate Title: S...</td>\n",
       "    </tr>\n",
       "    <tr>\n",
       "      <th>598</th>\n",
       "      <td>Plotinus:\\nTHE SIXTH ENNEAD\\nTractate Title: S...</td>\n",
       "    </tr>\n",
       "    <tr>\n",
       "      <th>62</th>\n",
       "      <td>Plotinus:\\nTHE FIRST ENNEAD\\nTractate Title: S...</td>\n",
       "    </tr>\n",
       "    <tr>\n",
       "      <th>13</th>\n",
       "      <td>Plotinus:\\nTHE FIRST ENNEAD\\nTractate Title: S...</td>\n",
       "    </tr>\n",
       "  </tbody>\n",
       "</table>\n",
       "</div>"
      ],
      "text/plain": [
       "                                              combined\n",
       "19   Plotinus:\\nTHE FIRST ENNEAD\\nTractate Title: S...\n",
       "148  Plotinus:\\nTHE SECOND ENNEAD\\nTractate Title: ...\n",
       "15   Plotinus:\\nTHE FIRST ENNEAD\\nTractate Title: S...\n",
       "440  Plotinus:\\nTHE FIFTH ENNEAD\\nTractate Title: N...\n",
       "57   Plotinus:\\nTHE FIRST ENNEAD\\nTractate Title: S...\n",
       "18   Plotinus:\\nTHE FIRST ENNEAD\\nTractate Title: S...\n",
       "16   Plotinus:\\nTHE FIRST ENNEAD\\nTractate Title: S...\n",
       "598  Plotinus:\\nTHE SIXTH ENNEAD\\nTractate Title: S...\n",
       "62   Plotinus:\\nTHE FIRST ENNEAD\\nTractate Title: S...\n",
       "13   Plotinus:\\nTHE FIRST ENNEAD\\nTractate Title: S..."
      ]
     },
     "execution_count": 129,
     "metadata": {},
     "output_type": "execute_result"
    }
   ],
   "source": [
    "search_results[['combined']].head(10)"
   ]
  },
  {
   "cell_type": "code",
   "execution_count": 29,
   "metadata": {},
   "outputs": [
    {
     "data": {
      "image/png": "[encoded data removed]",
      "text/plain": [
       "<Figure size 4000x400 with 10 Axes>"
      ]
     },
     "metadata": {},
     "output_type": "display_data"
    }
   ],
   "source": [
    "k = 10\n",
    "D, I = index.search(xq, k)\n",
    "arr = np.empty([0,64])\n",
    "i = 0\n",
    "for i in range(k):\n",
    "    arr = np.vstack((arr, xb[I[0,i]]))\n",
    "draw_mnist(arr)"
   ]
  },
  {
   "cell_type": "code",
   "execution_count": null,
   "metadata": {},
   "outputs": [],
   "source": []
  }
 ],
 "metadata": {
  "kernelspec": {
   "display_name": "Python 3.10.9 64-bit ('transformer')",
   "language": "python",
   "name": "python3"
  },
  "language_info": {
   "codemirror_mode": {
    "name": "ipython",
    "version": 3
   },
   "file_extension": ".py",
   "mimetype": "text/x-python",
   "name": "python",
   "nbconvert_exporter": "python",
   "pygments_lexer": "ipython3",
   "version": "3.10.9"
  },
  "orig_nbformat": 4,
  "vscode": {
   "interpreter": {
    "hash": "7f855c2ede0f4dc73a4983d11a306d2c4559a13dbe5dd20c7712a9f5336335d8"
   }
  }
 },
 "nbformat": 4,
 "nbformat_minor": 2
}
